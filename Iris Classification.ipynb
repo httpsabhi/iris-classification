{
 "cells": [
  {
   "cell_type": "code",
   "execution_count": 65,
   "id": "45589ad8",
   "metadata": {},
   "outputs": [],
   "source": [
    "import pandas as pd\n",
    "import numpy as np\n",
    "import seaborn as sns\n",
    "from tensorflow import keras"
   ]
  },
  {
   "cell_type": "code",
   "execution_count": 66,
   "id": "e5509c23",
   "metadata": {},
   "outputs": [
    {
     "data": {
      "text/html": [
       "<div>\n",
       "<style scoped>\n",
       "    .dataframe tbody tr th:only-of-type {\n",
       "        vertical-align: middle;\n",
       "    }\n",
       "\n",
       "    .dataframe tbody tr th {\n",
       "        vertical-align: top;\n",
       "    }\n",
       "\n",
       "    .dataframe thead th {\n",
       "        text-align: right;\n",
       "    }\n",
       "</style>\n",
       "<table border=\"1\" class=\"dataframe\">\n",
       "  <thead>\n",
       "    <tr style=\"text-align: right;\">\n",
       "      <th></th>\n",
       "      <th>Id</th>\n",
       "      <th>SepalLengthCm</th>\n",
       "      <th>SepalWidthCm</th>\n",
       "      <th>PetalLengthCm</th>\n",
       "      <th>PetalWidthCm</th>\n",
       "      <th>Species</th>\n",
       "    </tr>\n",
       "  </thead>\n",
       "  <tbody>\n",
       "    <tr>\n",
       "      <th>0</th>\n",
       "      <td>1</td>\n",
       "      <td>5.1</td>\n",
       "      <td>3.5</td>\n",
       "      <td>1.4</td>\n",
       "      <td>0.2</td>\n",
       "      <td>Iris-setosa</td>\n",
       "    </tr>\n",
       "    <tr>\n",
       "      <th>1</th>\n",
       "      <td>2</td>\n",
       "      <td>4.9</td>\n",
       "      <td>3.0</td>\n",
       "      <td>1.4</td>\n",
       "      <td>0.2</td>\n",
       "      <td>Iris-setosa</td>\n",
       "    </tr>\n",
       "    <tr>\n",
       "      <th>2</th>\n",
       "      <td>3</td>\n",
       "      <td>4.7</td>\n",
       "      <td>3.2</td>\n",
       "      <td>1.3</td>\n",
       "      <td>0.2</td>\n",
       "      <td>Iris-setosa</td>\n",
       "    </tr>\n",
       "    <tr>\n",
       "      <th>3</th>\n",
       "      <td>4</td>\n",
       "      <td>4.6</td>\n",
       "      <td>3.1</td>\n",
       "      <td>1.5</td>\n",
       "      <td>0.2</td>\n",
       "      <td>Iris-setosa</td>\n",
       "    </tr>\n",
       "    <tr>\n",
       "      <th>4</th>\n",
       "      <td>5</td>\n",
       "      <td>5.0</td>\n",
       "      <td>3.6</td>\n",
       "      <td>1.4</td>\n",
       "      <td>0.2</td>\n",
       "      <td>Iris-setosa</td>\n",
       "    </tr>\n",
       "  </tbody>\n",
       "</table>\n",
       "</div>"
      ],
      "text/plain": [
       "   Id  SepalLengthCm  SepalWidthCm  PetalLengthCm  PetalWidthCm      Species\n",
       "0   1            5.1           3.5            1.4           0.2  Iris-setosa\n",
       "1   2            4.9           3.0            1.4           0.2  Iris-setosa\n",
       "2   3            4.7           3.2            1.3           0.2  Iris-setosa\n",
       "3   4            4.6           3.1            1.5           0.2  Iris-setosa\n",
       "4   5            5.0           3.6            1.4           0.2  Iris-setosa"
      ]
     },
     "execution_count": 66,
     "metadata": {},
     "output_type": "execute_result"
    }
   ],
   "source": [
    "df = pd.read_csv('Irisdataset.csv')\n",
    "df.head()"
   ]
  },
  {
   "cell_type": "code",
   "execution_count": 67,
   "id": "b979dece",
   "metadata": {},
   "outputs": [
    {
     "data": {
      "text/plain": [
       "Species\n",
       "Iris-setosa        50\n",
       "Iris-versicolor    50\n",
       "Iris-virginica     50\n",
       "Name: count, dtype: int64"
      ]
     },
     "execution_count": 67,
     "metadata": {},
     "output_type": "execute_result"
    }
   ],
   "source": [
    "df['Species'].value_counts()"
   ]
  },
  {
   "cell_type": "code",
   "execution_count": 68,
   "id": "3d6c7f38",
   "metadata": {},
   "outputs": [
    {
     "name": "stdout",
     "output_type": "stream",
     "text": [
      "<class 'pandas.core.frame.DataFrame'>\n",
      "RangeIndex: 150 entries, 0 to 149\n",
      "Data columns (total 6 columns):\n",
      " #   Column         Non-Null Count  Dtype  \n",
      "---  ------         --------------  -----  \n",
      " 0   Id             150 non-null    int64  \n",
      " 1   SepalLengthCm  150 non-null    float64\n",
      " 2   SepalWidthCm   150 non-null    float64\n",
      " 3   PetalLengthCm  150 non-null    float64\n",
      " 4   PetalWidthCm   150 non-null    float64\n",
      " 5   Species        150 non-null    object \n",
      "dtypes: float64(4), int64(1), object(1)\n",
      "memory usage: 7.2+ KB\n"
     ]
    }
   ],
   "source": [
    "df.info()"
   ]
  },
  {
   "cell_type": "code",
   "execution_count": 69,
   "id": "8f5a9f48",
   "metadata": {},
   "outputs": [
    {
     "data": {
      "text/plain": [
       "Id               0\n",
       "SepalLengthCm    0\n",
       "SepalWidthCm     0\n",
       "PetalLengthCm    0\n",
       "PetalWidthCm     0\n",
       "Species          0\n",
       "dtype: int64"
      ]
     },
     "execution_count": 69,
     "metadata": {},
     "output_type": "execute_result"
    }
   ],
   "source": [
    "df.isnull().sum()"
   ]
  },
  {
   "cell_type": "code",
   "execution_count": 70,
   "id": "f1516df6",
   "metadata": {},
   "outputs": [
    {
     "data": {
      "text/html": [
       "<div>\n",
       "<style scoped>\n",
       "    .dataframe tbody tr th:only-of-type {\n",
       "        vertical-align: middle;\n",
       "    }\n",
       "\n",
       "    .dataframe tbody tr th {\n",
       "        vertical-align: top;\n",
       "    }\n",
       "\n",
       "    .dataframe thead th {\n",
       "        text-align: right;\n",
       "    }\n",
       "</style>\n",
       "<table border=\"1\" class=\"dataframe\">\n",
       "  <thead>\n",
       "    <tr style=\"text-align: right;\">\n",
       "      <th></th>\n",
       "      <th>Id</th>\n",
       "      <th>SepalLengthCm</th>\n",
       "      <th>SepalWidthCm</th>\n",
       "      <th>PetalLengthCm</th>\n",
       "      <th>PetalWidthCm</th>\n",
       "      <th>Species</th>\n",
       "    </tr>\n",
       "  </thead>\n",
       "  <tbody>\n",
       "    <tr>\n",
       "      <th>0</th>\n",
       "      <td>1</td>\n",
       "      <td>5.1</td>\n",
       "      <td>3.5</td>\n",
       "      <td>1.4</td>\n",
       "      <td>0.2</td>\n",
       "      <td>0</td>\n",
       "    </tr>\n",
       "    <tr>\n",
       "      <th>1</th>\n",
       "      <td>2</td>\n",
       "      <td>4.9</td>\n",
       "      <td>3.0</td>\n",
       "      <td>1.4</td>\n",
       "      <td>0.2</td>\n",
       "      <td>0</td>\n",
       "    </tr>\n",
       "    <tr>\n",
       "      <th>2</th>\n",
       "      <td>3</td>\n",
       "      <td>4.7</td>\n",
       "      <td>3.2</td>\n",
       "      <td>1.3</td>\n",
       "      <td>0.2</td>\n",
       "      <td>0</td>\n",
       "    </tr>\n",
       "    <tr>\n",
       "      <th>3</th>\n",
       "      <td>4</td>\n",
       "      <td>4.6</td>\n",
       "      <td>3.1</td>\n",
       "      <td>1.5</td>\n",
       "      <td>0.2</td>\n",
       "      <td>0</td>\n",
       "    </tr>\n",
       "    <tr>\n",
       "      <th>4</th>\n",
       "      <td>5</td>\n",
       "      <td>5.0</td>\n",
       "      <td>3.6</td>\n",
       "      <td>1.4</td>\n",
       "      <td>0.2</td>\n",
       "      <td>0</td>\n",
       "    </tr>\n",
       "  </tbody>\n",
       "</table>\n",
       "</div>"
      ],
      "text/plain": [
       "   Id  SepalLengthCm  SepalWidthCm  PetalLengthCm  PetalWidthCm  Species\n",
       "0   1            5.1           3.5            1.4           0.2        0\n",
       "1   2            4.9           3.0            1.4           0.2        0\n",
       "2   3            4.7           3.2            1.3           0.2        0\n",
       "3   4            4.6           3.1            1.5           0.2        0\n",
       "4   5            5.0           3.6            1.4           0.2        0"
      ]
     },
     "execution_count": 70,
     "metadata": {},
     "output_type": "execute_result"
    }
   ],
   "source": [
    "from sklearn.preprocessing import LabelEncoder, StandardScaler\n",
    "le = LabelEncoder()\n",
    "df['Species'] = le.fit_transform(df['Species'])\n",
    "df.head()"
   ]
  },
  {
   "cell_type": "code",
   "execution_count": 71,
   "id": "26a50dba",
   "metadata": {},
   "outputs": [
    {
     "name": "stdout",
     "output_type": "stream",
     "text": [
      "['Iris-setosa' 'Iris-versicolor' 'Iris-virginica']\n"
     ]
    }
   ],
   "source": [
    "species_name = le.classes_\n",
    "print(species_name)"
   ]
  },
  {
   "cell_type": "code",
   "execution_count": 72,
   "id": "2d30bb06",
   "metadata": {},
   "outputs": [
    {
     "data": {
      "text/html": [
       "<div>\n",
       "<style scoped>\n",
       "    .dataframe tbody tr th:only-of-type {\n",
       "        vertical-align: middle;\n",
       "    }\n",
       "\n",
       "    .dataframe tbody tr th {\n",
       "        vertical-align: top;\n",
       "    }\n",
       "\n",
       "    .dataframe thead th {\n",
       "        text-align: right;\n",
       "    }\n",
       "</style>\n",
       "<table border=\"1\" class=\"dataframe\">\n",
       "  <thead>\n",
       "    <tr style=\"text-align: right;\">\n",
       "      <th></th>\n",
       "      <th>SepalLengthCm</th>\n",
       "      <th>SepalWidthCm</th>\n",
       "      <th>PetalLengthCm</th>\n",
       "      <th>PetalWidthCm</th>\n",
       "    </tr>\n",
       "  </thead>\n",
       "  <tbody>\n",
       "    <tr>\n",
       "      <th>0</th>\n",
       "      <td>5.1</td>\n",
       "      <td>3.5</td>\n",
       "      <td>1.4</td>\n",
       "      <td>0.2</td>\n",
       "    </tr>\n",
       "    <tr>\n",
       "      <th>1</th>\n",
       "      <td>4.9</td>\n",
       "      <td>3.0</td>\n",
       "      <td>1.4</td>\n",
       "      <td>0.2</td>\n",
       "    </tr>\n",
       "    <tr>\n",
       "      <th>2</th>\n",
       "      <td>4.7</td>\n",
       "      <td>3.2</td>\n",
       "      <td>1.3</td>\n",
       "      <td>0.2</td>\n",
       "    </tr>\n",
       "  </tbody>\n",
       "</table>\n",
       "</div>"
      ],
      "text/plain": [
       "   SepalLengthCm  SepalWidthCm  PetalLengthCm  PetalWidthCm\n",
       "0            5.1           3.5            1.4           0.2\n",
       "1            4.9           3.0            1.4           0.2\n",
       "2            4.7           3.2            1.3           0.2"
      ]
     },
     "execution_count": 72,
     "metadata": {},
     "output_type": "execute_result"
    }
   ],
   "source": [
    "X = df.drop(columns=['Id', 'Species'])\n",
    "y = df['Species']\n",
    "X.head(3)"
   ]
  },
  {
   "cell_type": "code",
   "execution_count": 73,
   "id": "c8e30209",
   "metadata": {},
   "outputs": [
    {
     "name": "stdout",
     "output_type": "stream",
     "text": [
      "0    0\n",
      "1    0\n",
      "2    0\n",
      "3    0\n",
      "4    0\n",
      "Name: Species, dtype: int32\n"
     ]
    }
   ],
   "source": [
    "print(y[:5])"
   ]
  },
  {
   "cell_type": "code",
   "execution_count": 74,
   "id": "3eccbee0",
   "metadata": {},
   "outputs": [],
   "source": [
    "from sklearn.model_selection import train_test_split\n",
    "x_train, x_test, y_train, y_test = train_test_split(X, y, test_size=0.3, shuffle=True, random_state=69)"
   ]
  },
  {
   "cell_type": "code",
   "execution_count": 75,
   "id": "520f3156",
   "metadata": {},
   "outputs": [
    {
     "data": {
      "text/plain": [
       "(105, 4)"
      ]
     },
     "execution_count": 75,
     "metadata": {},
     "output_type": "execute_result"
    }
   ],
   "source": [
    "x_train.shape"
   ]
  },
  {
   "cell_type": "code",
   "execution_count": 76,
   "id": "c3e4a6c7",
   "metadata": {},
   "outputs": [
    {
     "name": "stdout",
     "output_type": "stream",
     "text": [
      "    SepalLengthCm  SepalWidthCm  PetalLengthCm  PetalWidthCm\n",
      "57            4.9           2.4            3.3           1.0\n",
      "[[-1.14630942 -1.44374444 -0.25650655 -0.258263  ]]\n"
     ]
    }
   ],
   "source": [
    "sc = StandardScaler()\n",
    "print(x_train[:1])\n",
    "x_train = sc.fit_transform(x_train)\n",
    "x_test = sc.transform(x_test)\n",
    "print(x_train[:1])"
   ]
  },
  {
   "cell_type": "code",
   "execution_count": 77,
   "id": "db2ba235",
   "metadata": {},
   "outputs": [
    {
     "name": "stdout",
     "output_type": "stream",
     "text": [
      "[[0. 1. 0.]\n",
      " [0. 0. 1.]\n",
      " [0. 1. 0.]\n",
      " [0. 1. 0.]\n",
      " [0. 1. 0.]]\n"
     ]
    }
   ],
   "source": [
    "y_train = keras.utils.to_categorical(y_train, num_classes=3)\n",
    "print(y_train[:5])"
   ]
  },
  {
   "cell_type": "code",
   "execution_count": 78,
   "id": "d6ef0181",
   "metadata": {},
   "outputs": [],
   "source": [
    "from keras.models import Sequential\n",
    "from keras.layers import Dense, Dropout, Input"
   ]
  },
  {
   "cell_type": "code",
   "execution_count": 79,
   "id": "2c7a3a18",
   "metadata": {},
   "outputs": [],
   "source": [
    "model = Sequential()\n",
    "model.add(Input(shape=(x_train.shape[-1],)))\n",
    "model.add(Dense(units=32, activation='relu'))\n",
    "model.add(Dense(units=32, activation='relu'))\n",
    "model.add(Dropout(0.5))\n",
    "model.add(Dense(units=3, activation='softmax'))"
   ]
  },
  {
   "cell_type": "code",
   "execution_count": 80,
   "id": "9ed507c7",
   "metadata": {},
   "outputs": [
    {
     "data": {
      "text/html": [
       "<pre style=\"white-space:pre;overflow-x:auto;line-height:normal;font-family:Menlo,'DejaVu Sans Mono',consolas,'Courier New',monospace\"><span style=\"font-weight: bold\">Model: \"sequential_2\"</span>\n",
       "</pre>\n"
      ],
      "text/plain": [
       "\u001b[1mModel: \"sequential_2\"\u001b[0m\n"
      ]
     },
     "metadata": {},
     "output_type": "display_data"
    },
    {
     "data": {
      "text/html": [
       "<pre style=\"white-space:pre;overflow-x:auto;line-height:normal;font-family:Menlo,'DejaVu Sans Mono',consolas,'Courier New',monospace\">┏━━━━━━━━━━━━━━━━━━━━━━━━━━━━━━━━━━━━━━┳━━━━━━━━━━━━━━━━━━━━━━━━━━━━━┳━━━━━━━━━━━━━━━━━┓\n",
       "┃<span style=\"font-weight: bold\"> Layer (type)                         </span>┃<span style=\"font-weight: bold\"> Output Shape                </span>┃<span style=\"font-weight: bold\">         Param # </span>┃\n",
       "┡━━━━━━━━━━━━━━━━━━━━━━━━━━━━━━━━━━━━━━╇━━━━━━━━━━━━━━━━━━━━━━━━━━━━━╇━━━━━━━━━━━━━━━━━┩\n",
       "│ dense_6 (<span style=\"color: #0087ff; text-decoration-color: #0087ff\">Dense</span>)                      │ (<span style=\"color: #00d7ff; text-decoration-color: #00d7ff\">None</span>, <span style=\"color: #00af00; text-decoration-color: #00af00\">32</span>)                  │             <span style=\"color: #00af00; text-decoration-color: #00af00\">160</span> │\n",
       "├──────────────────────────────────────┼─────────────────────────────┼─────────────────┤\n",
       "│ dense_7 (<span style=\"color: #0087ff; text-decoration-color: #0087ff\">Dense</span>)                      │ (<span style=\"color: #00d7ff; text-decoration-color: #00d7ff\">None</span>, <span style=\"color: #00af00; text-decoration-color: #00af00\">32</span>)                  │           <span style=\"color: #00af00; text-decoration-color: #00af00\">1,056</span> │\n",
       "├──────────────────────────────────────┼─────────────────────────────┼─────────────────┤\n",
       "│ dropout_2 (<span style=\"color: #0087ff; text-decoration-color: #0087ff\">Dropout</span>)                  │ (<span style=\"color: #00d7ff; text-decoration-color: #00d7ff\">None</span>, <span style=\"color: #00af00; text-decoration-color: #00af00\">32</span>)                  │               <span style=\"color: #00af00; text-decoration-color: #00af00\">0</span> │\n",
       "├──────────────────────────────────────┼─────────────────────────────┼─────────────────┤\n",
       "│ dense_8 (<span style=\"color: #0087ff; text-decoration-color: #0087ff\">Dense</span>)                      │ (<span style=\"color: #00d7ff; text-decoration-color: #00d7ff\">None</span>, <span style=\"color: #00af00; text-decoration-color: #00af00\">3</span>)                   │              <span style=\"color: #00af00; text-decoration-color: #00af00\">99</span> │\n",
       "└──────────────────────────────────────┴─────────────────────────────┴─────────────────┘\n",
       "</pre>\n"
      ],
      "text/plain": [
       "┏━━━━━━━━━━━━━━━━━━━━━━━━━━━━━━━━━━━━━━┳━━━━━━━━━━━━━━━━━━━━━━━━━━━━━┳━━━━━━━━━━━━━━━━━┓\n",
       "┃\u001b[1m \u001b[0m\u001b[1mLayer (type)                        \u001b[0m\u001b[1m \u001b[0m┃\u001b[1m \u001b[0m\u001b[1mOutput Shape               \u001b[0m\u001b[1m \u001b[0m┃\u001b[1m \u001b[0m\u001b[1m        Param #\u001b[0m\u001b[1m \u001b[0m┃\n",
       "┡━━━━━━━━━━━━━━━━━━━━━━━━━━━━━━━━━━━━━━╇━━━━━━━━━━━━━━━━━━━━━━━━━━━━━╇━━━━━━━━━━━━━━━━━┩\n",
       "│ dense_6 (\u001b[38;5;33mDense\u001b[0m)                      │ (\u001b[38;5;45mNone\u001b[0m, \u001b[38;5;34m32\u001b[0m)                  │             \u001b[38;5;34m160\u001b[0m │\n",
       "├──────────────────────────────────────┼─────────────────────────────┼─────────────────┤\n",
       "│ dense_7 (\u001b[38;5;33mDense\u001b[0m)                      │ (\u001b[38;5;45mNone\u001b[0m, \u001b[38;5;34m32\u001b[0m)                  │           \u001b[38;5;34m1,056\u001b[0m │\n",
       "├──────────────────────────────────────┼─────────────────────────────┼─────────────────┤\n",
       "│ dropout_2 (\u001b[38;5;33mDropout\u001b[0m)                  │ (\u001b[38;5;45mNone\u001b[0m, \u001b[38;5;34m32\u001b[0m)                  │               \u001b[38;5;34m0\u001b[0m │\n",
       "├──────────────────────────────────────┼─────────────────────────────┼─────────────────┤\n",
       "│ dense_8 (\u001b[38;5;33mDense\u001b[0m)                      │ (\u001b[38;5;45mNone\u001b[0m, \u001b[38;5;34m3\u001b[0m)                   │              \u001b[38;5;34m99\u001b[0m │\n",
       "└──────────────────────────────────────┴─────────────────────────────┴─────────────────┘\n"
      ]
     },
     "metadata": {},
     "output_type": "display_data"
    },
    {
     "data": {
      "text/html": [
       "<pre style=\"white-space:pre;overflow-x:auto;line-height:normal;font-family:Menlo,'DejaVu Sans Mono',consolas,'Courier New',monospace\"><span style=\"font-weight: bold\"> Total params: </span><span style=\"color: #00af00; text-decoration-color: #00af00\">1,315</span> (5.14 KB)\n",
       "</pre>\n"
      ],
      "text/plain": [
       "\u001b[1m Total params: \u001b[0m\u001b[38;5;34m1,315\u001b[0m (5.14 KB)\n"
      ]
     },
     "metadata": {},
     "output_type": "display_data"
    },
    {
     "data": {
      "text/html": [
       "<pre style=\"white-space:pre;overflow-x:auto;line-height:normal;font-family:Menlo,'DejaVu Sans Mono',consolas,'Courier New',monospace\"><span style=\"font-weight: bold\"> Trainable params: </span><span style=\"color: #00af00; text-decoration-color: #00af00\">1,315</span> (5.14 KB)\n",
       "</pre>\n"
      ],
      "text/plain": [
       "\u001b[1m Trainable params: \u001b[0m\u001b[38;5;34m1,315\u001b[0m (5.14 KB)\n"
      ]
     },
     "metadata": {},
     "output_type": "display_data"
    },
    {
     "data": {
      "text/html": [
       "<pre style=\"white-space:pre;overflow-x:auto;line-height:normal;font-family:Menlo,'DejaVu Sans Mono',consolas,'Courier New',monospace\"><span style=\"font-weight: bold\"> Non-trainable params: </span><span style=\"color: #00af00; text-decoration-color: #00af00\">0</span> (0.00 B)\n",
       "</pre>\n"
      ],
      "text/plain": [
       "\u001b[1m Non-trainable params: \u001b[0m\u001b[38;5;34m0\u001b[0m (0.00 B)\n"
      ]
     },
     "metadata": {},
     "output_type": "display_data"
    }
   ],
   "source": [
    "model.compile(optimizer='Adam', loss='categorical_crossentropy', metrics=['accuracy'])\n",
    "model.summary()"
   ]
  },
  {
   "cell_type": "code",
   "execution_count": 81,
   "id": "8a39cd14",
   "metadata": {},
   "outputs": [
    {
     "name": "stdout",
     "output_type": "stream",
     "text": [
      "Epoch 1/100\n",
      "4/4 - 1s - 317ms/step - accuracy: 0.2476 - loss: 1.2522\n",
      "Epoch 2/100\n",
      "4/4 - 0s - 13ms/step - accuracy: 0.3524 - loss: 1.1518\n",
      "Epoch 3/100\n",
      "4/4 - 0s - 11ms/step - accuracy: 0.3429 - loss: 1.0649\n",
      "Epoch 4/100\n",
      "4/4 - 0s - 11ms/step - accuracy: 0.4571 - loss: 1.0665\n",
      "Epoch 5/100\n",
      "4/4 - 0s - 12ms/step - accuracy: 0.4952 - loss: 1.0378\n",
      "Epoch 6/100\n",
      "4/4 - 0s - 12ms/step - accuracy: 0.4857 - loss: 0.9653\n",
      "Epoch 7/100\n",
      "4/4 - 0s - 12ms/step - accuracy: 0.5714 - loss: 0.9487\n",
      "Epoch 8/100\n",
      "4/4 - 0s - 12ms/step - accuracy: 0.5429 - loss: 0.9010\n",
      "Epoch 9/100\n",
      "4/4 - 0s - 10ms/step - accuracy: 0.6381 - loss: 0.8388\n",
      "Epoch 10/100\n",
      "4/4 - 0s - 11ms/step - accuracy: 0.6857 - loss: 0.8465\n",
      "Epoch 11/100\n",
      "4/4 - 0s - 10ms/step - accuracy: 0.7048 - loss: 0.7839\n",
      "Epoch 12/100\n",
      "4/4 - 0s - 10ms/step - accuracy: 0.7143 - loss: 0.7365\n",
      "Epoch 13/100\n",
      "4/4 - 0s - 11ms/step - accuracy: 0.6952 - loss: 0.6757\n",
      "Epoch 14/100\n",
      "4/4 - 0s - 10ms/step - accuracy: 0.7238 - loss: 0.7382\n",
      "Epoch 15/100\n",
      "4/4 - 0s - 10ms/step - accuracy: 0.7524 - loss: 0.6808\n",
      "Epoch 16/100\n",
      "4/4 - 0s - 11ms/step - accuracy: 0.7524 - loss: 0.6329\n",
      "Epoch 17/100\n",
      "4/4 - 0s - 10ms/step - accuracy: 0.7333 - loss: 0.6895\n",
      "Epoch 18/100\n",
      "4/4 - 0s - 11ms/step - accuracy: 0.7429 - loss: 0.6161\n",
      "Epoch 19/100\n",
      "4/4 - 0s - 11ms/step - accuracy: 0.7429 - loss: 0.6002\n",
      "Epoch 20/100\n",
      "4/4 - 0s - 12ms/step - accuracy: 0.7714 - loss: 0.6290\n",
      "Epoch 21/100\n",
      "4/4 - 0s - 11ms/step - accuracy: 0.7619 - loss: 0.5812\n",
      "Epoch 22/100\n",
      "4/4 - 0s - 10ms/step - accuracy: 0.8000 - loss: 0.5918\n",
      "Epoch 23/100\n",
      "4/4 - 0s - 12ms/step - accuracy: 0.7238 - loss: 0.6010\n",
      "Epoch 24/100\n",
      "4/4 - 0s - 12ms/step - accuracy: 0.7714 - loss: 0.5289\n",
      "Epoch 25/100\n",
      "4/4 - 0s - 10ms/step - accuracy: 0.8286 - loss: 0.5349\n",
      "Epoch 26/100\n",
      "4/4 - 0s - 11ms/step - accuracy: 0.7810 - loss: 0.5181\n",
      "Epoch 27/100\n",
      "4/4 - 0s - 10ms/step - accuracy: 0.7429 - loss: 0.5211\n",
      "Epoch 28/100\n",
      "4/4 - 0s - 10ms/step - accuracy: 0.7619 - loss: 0.5147\n",
      "Epoch 29/100\n",
      "4/4 - 0s - 10ms/step - accuracy: 0.7714 - loss: 0.5214\n",
      "Epoch 30/100\n",
      "4/4 - 0s - 9ms/step - accuracy: 0.7619 - loss: 0.5449\n",
      "Epoch 31/100\n",
      "4/4 - 0s - 10ms/step - accuracy: 0.7810 - loss: 0.4757\n",
      "Epoch 32/100\n",
      "4/4 - 0s - 9ms/step - accuracy: 0.7524 - loss: 0.4765\n",
      "Epoch 33/100\n",
      "4/4 - 0s - 9ms/step - accuracy: 0.8000 - loss: 0.4259\n",
      "Epoch 34/100\n",
      "4/4 - 0s - 9ms/step - accuracy: 0.7905 - loss: 0.5107\n",
      "Epoch 35/100\n",
      "4/4 - 0s - 9ms/step - accuracy: 0.8095 - loss: 0.4694\n",
      "Epoch 36/100\n",
      "4/4 - 0s - 9ms/step - accuracy: 0.7905 - loss: 0.4633\n",
      "Epoch 37/100\n",
      "4/4 - 0s - 9ms/step - accuracy: 0.7810 - loss: 0.4889\n",
      "Epoch 38/100\n",
      "4/4 - 0s - 10ms/step - accuracy: 0.8381 - loss: 0.4877\n",
      "Epoch 39/100\n",
      "4/4 - 0s - 11ms/step - accuracy: 0.7619 - loss: 0.4570\n",
      "Epoch 40/100\n",
      "4/4 - 0s - 10ms/step - accuracy: 0.8286 - loss: 0.4246\n",
      "Epoch 41/100\n",
      "4/4 - 0s - 9ms/step - accuracy: 0.8190 - loss: 0.4425\n",
      "Epoch 42/100\n",
      "4/4 - 0s - 10ms/step - accuracy: 0.7619 - loss: 0.3935\n",
      "Epoch 43/100\n",
      "4/4 - 0s - 8ms/step - accuracy: 0.8190 - loss: 0.4072\n",
      "Epoch 44/100\n",
      "4/4 - 0s - 8ms/step - accuracy: 0.7810 - loss: 0.4283\n",
      "Epoch 45/100\n",
      "4/4 - 0s - 10ms/step - accuracy: 0.7905 - loss: 0.4259\n",
      "Epoch 46/100\n",
      "4/4 - 0s - 10ms/step - accuracy: 0.8286 - loss: 0.4133\n",
      "Epoch 47/100\n",
      "4/4 - 0s - 10ms/step - accuracy: 0.8190 - loss: 0.3925\n",
      "Epoch 48/100\n",
      "4/4 - 0s - 9ms/step - accuracy: 0.8476 - loss: 0.3895\n",
      "Epoch 49/100\n",
      "4/4 - 0s - 9ms/step - accuracy: 0.8000 - loss: 0.4029\n",
      "Epoch 50/100\n",
      "4/4 - 0s - 9ms/step - accuracy: 0.7714 - loss: 0.3859\n",
      "Epoch 51/100\n",
      "4/4 - 0s - 9ms/step - accuracy: 0.8095 - loss: 0.4313\n",
      "Epoch 52/100\n",
      "4/4 - 0s - 10ms/step - accuracy: 0.8476 - loss: 0.3640\n",
      "Epoch 53/100\n",
      "4/4 - 0s - 9ms/step - accuracy: 0.8286 - loss: 0.3695\n",
      "Epoch 54/100\n",
      "4/4 - 0s - 10ms/step - accuracy: 0.8667 - loss: 0.4087\n",
      "Epoch 55/100\n",
      "4/4 - 0s - 10ms/step - accuracy: 0.8286 - loss: 0.3895\n",
      "Epoch 56/100\n",
      "4/4 - 0s - 9ms/step - accuracy: 0.8381 - loss: 0.3995\n",
      "Epoch 57/100\n",
      "4/4 - 0s - 9ms/step - accuracy: 0.8762 - loss: 0.3278\n",
      "Epoch 58/100\n",
      "4/4 - 0s - 10ms/step - accuracy: 0.8286 - loss: 0.4138\n",
      "Epoch 59/100\n",
      "4/4 - 0s - 11ms/step - accuracy: 0.8190 - loss: 0.3740\n",
      "Epoch 60/100\n",
      "4/4 - 0s - 10ms/step - accuracy: 0.8286 - loss: 0.3447\n",
      "Epoch 61/100\n",
      "4/4 - 0s - 9ms/step - accuracy: 0.8286 - loss: 0.3524\n",
      "Epoch 62/100\n",
      "4/4 - 0s - 9ms/step - accuracy: 0.8476 - loss: 0.4030\n",
      "Epoch 63/100\n",
      "4/4 - 0s - 9ms/step - accuracy: 0.8190 - loss: 0.3971\n",
      "Epoch 64/100\n",
      "4/4 - 0s - 9ms/step - accuracy: 0.8381 - loss: 0.3685\n",
      "Epoch 65/100\n",
      "4/4 - 0s - 10ms/step - accuracy: 0.8571 - loss: 0.3622\n",
      "Epoch 66/100\n",
      "4/4 - 0s - 9ms/step - accuracy: 0.8667 - loss: 0.3045\n",
      "Epoch 67/100\n",
      "4/4 - 0s - 9ms/step - accuracy: 0.8571 - loss: 0.3234\n",
      "Epoch 68/100\n",
      "4/4 - 0s - 9ms/step - accuracy: 0.8476 - loss: 0.3243\n",
      "Epoch 69/100\n",
      "4/4 - 0s - 9ms/step - accuracy: 0.8571 - loss: 0.3232\n",
      "Epoch 70/100\n",
      "4/4 - 0s - 10ms/step - accuracy: 0.8857 - loss: 0.3163\n",
      "Epoch 71/100\n",
      "4/4 - 0s - 10ms/step - accuracy: 0.9238 - loss: 0.3008\n",
      "Epoch 72/100\n",
      "4/4 - 0s - 9ms/step - accuracy: 0.8762 - loss: 0.3067\n",
      "Epoch 73/100\n",
      "4/4 - 0s - 10ms/step - accuracy: 0.8286 - loss: 0.3444\n",
      "Epoch 74/100\n",
      "4/4 - 0s - 8ms/step - accuracy: 0.8762 - loss: 0.2890\n",
      "Epoch 75/100\n",
      "4/4 - 0s - 9ms/step - accuracy: 0.8952 - loss: 0.3665\n",
      "Epoch 76/100\n",
      "4/4 - 0s - 9ms/step - accuracy: 0.8952 - loss: 0.2843\n",
      "Epoch 77/100\n",
      "4/4 - 0s - 10ms/step - accuracy: 0.8762 - loss: 0.3163\n",
      "Epoch 78/100\n",
      "4/4 - 0s - 9ms/step - accuracy: 0.8762 - loss: 0.3520\n",
      "Epoch 79/100\n",
      "4/4 - 0s - 11ms/step - accuracy: 0.9238 - loss: 0.2525\n",
      "Epoch 80/100\n",
      "4/4 - 0s - 9ms/step - accuracy: 0.8952 - loss: 0.2831\n",
      "Epoch 81/100\n",
      "4/4 - 0s - 9ms/step - accuracy: 0.9048 - loss: 0.2553\n",
      "Epoch 82/100\n",
      "4/4 - 0s - 9ms/step - accuracy: 0.9048 - loss: 0.2801\n",
      "Epoch 83/100\n",
      "4/4 - 0s - 10ms/step - accuracy: 0.9429 - loss: 0.2615\n",
      "Epoch 84/100\n",
      "4/4 - 0s - 9ms/step - accuracy: 0.8857 - loss: 0.2504\n",
      "Epoch 85/100\n",
      "4/4 - 0s - 12ms/step - accuracy: 0.8762 - loss: 0.2501\n",
      "Epoch 86/100\n",
      "4/4 - 0s - 11ms/step - accuracy: 0.8381 - loss: 0.2909\n",
      "Epoch 87/100\n",
      "4/4 - 0s - 9ms/step - accuracy: 0.9048 - loss: 0.2339\n",
      "Epoch 88/100\n",
      "4/4 - 0s - 10ms/step - accuracy: 0.9143 - loss: 0.2590\n",
      "Epoch 89/100\n",
      "4/4 - 0s - 9ms/step - accuracy: 0.9143 - loss: 0.2602\n",
      "Epoch 90/100\n",
      "4/4 - 0s - 9ms/step - accuracy: 0.9048 - loss: 0.2536\n",
      "Epoch 91/100\n",
      "4/4 - 0s - 10ms/step - accuracy: 0.8952 - loss: 0.2417\n",
      "Epoch 92/100\n",
      "4/4 - 0s - 9ms/step - accuracy: 0.9143 - loss: 0.2591\n",
      "Epoch 93/100\n",
      "4/4 - 0s - 9ms/step - accuracy: 0.9238 - loss: 0.2365\n",
      "Epoch 94/100\n",
      "4/4 - 0s - 9ms/step - accuracy: 0.8762 - loss: 0.3241\n",
      "Epoch 95/100\n",
      "4/4 - 0s - 10ms/step - accuracy: 0.9048 - loss: 0.2413\n",
      "Epoch 96/100\n",
      "4/4 - 0s - 9ms/step - accuracy: 0.9238 - loss: 0.2587\n",
      "Epoch 97/100\n",
      "4/4 - 0s - 10ms/step - accuracy: 0.8952 - loss: 0.2926\n",
      "Epoch 98/100\n",
      "4/4 - 0s - 9ms/step - accuracy: 0.9143 - loss: 0.2496\n",
      "Epoch 99/100\n",
      "4/4 - 0s - 9ms/step - accuracy: 0.9048 - loss: 0.2213\n",
      "Epoch 100/100\n",
      "4/4 - 0s - 9ms/step - accuracy: 0.9524 - loss: 0.2054\n"
     ]
    },
    {
     "data": {
      "text/plain": [
       "<keras.src.callbacks.history.History at 0x1f54a964590>"
      ]
     },
     "execution_count": 81,
     "metadata": {},
     "output_type": "execute_result"
    }
   ],
   "source": [
    "model.fit(x_train, y_train, epochs=100, verbose=2)"
   ]
  },
  {
   "cell_type": "code",
   "execution_count": 82,
   "id": "71e201c2",
   "metadata": {},
   "outputs": [
    {
     "name": "stdout",
     "output_type": "stream",
     "text": [
      "\u001b[1m2/2\u001b[0m \u001b[32m━━━━━━━━━━━━━━━━━━━━\u001b[0m\u001b[37m\u001b[0m \u001b[1m0s\u001b[0m 41ms/step\n",
      "[[9.9986529e-01 6.8737027e-05 6.5909058e-05]\n",
      " [2.0478731e-02 7.6366627e-01 2.1585502e-01]\n",
      " [9.9900585e-01 5.9985864e-04 3.9431392e-04]\n",
      " [1.8095336e-04 4.1124627e-02 9.5869446e-01]\n",
      " [9.9875617e-01 7.3152245e-04 5.1228266e-04]]\n"
     ]
    }
   ],
   "source": [
    "prediction = model.predict(x_test)\n",
    "print(prediction[:5])"
   ]
  },
  {
   "cell_type": "code",
   "execution_count": 83,
   "id": "635ae954",
   "metadata": {},
   "outputs": [
    {
     "name": "stdout",
     "output_type": "stream",
     "text": [
      "[0 1 0 2 0]\n"
     ]
    }
   ],
   "source": [
    "prediction = np.argmax(prediction, axis=-1)\n",
    "print(prediction[:5])"
   ]
  },
  {
   "cell_type": "code",
   "execution_count": 84,
   "id": "acd06c68",
   "metadata": {},
   "outputs": [
    {
     "name": "stdout",
     "output_type": "stream",
     "text": [
      "4      0\n",
      "58     1\n",
      "20     0\n",
      "114    2\n",
      "31     0\n",
      "Name: Species, dtype: int32\n"
     ]
    }
   ],
   "source": [
    "print(y_test[:5])"
   ]
  },
  {
   "cell_type": "code",
   "execution_count": 85,
   "id": "24382b61",
   "metadata": {},
   "outputs": [
    {
     "name": "stdout",
     "output_type": "stream",
     "text": [
      "0.9777777777777777\n"
     ]
    }
   ],
   "source": [
    "from sklearn.metrics import accuracy_score, confusion_matrix\n",
    "print(accuracy_score(y_test, prediction))"
   ]
  },
  {
   "cell_type": "code",
   "execution_count": 86,
   "id": "bb86cb15",
   "metadata": {},
   "outputs": [
    {
     "name": "stdout",
     "output_type": "stream",
     "text": [
      "[[16  0  0]\n",
      " [ 0 12  0]\n",
      " [ 0  1 16]]\n"
     ]
    }
   ],
   "source": [
    "cm = confusion_matrix(y_test, prediction)\n",
    "print(cm)"
   ]
  },
  {
   "cell_type": "code",
   "execution_count": 89,
   "id": "d099af1d",
   "metadata": {},
   "outputs": [
    {
     "data": {
      "text/plain": [
       "Text(50.72222222222221, 0.5, 'Actual')"
      ]
     },
     "execution_count": 89,
     "metadata": {},
     "output_type": "execute_result"
    },
    {
     "data": {
      "image/png": "[encoded data removed]",
      "text/plain": [
       "<Figure size 640x480 with 2 Axes>"
      ]
     },
     "metadata": {},
     "output_type": "display_data"
    }
   ],
   "source": [
    "ax = sns.heatmap(cm, annot=True, fmt='d', cmap='Reds', xticklabels=species_name, yticklabels=species_name)\n",
    "ax.set_title('Confusion Matrix for Iris Dataset Prediction')\n",
    "ax.set_xlabel('Prediction', fontsize=14)\n",
    "ax.set_ylabel('Actual', fontsize=14)"
   ]
  },
  {
   "cell_type": "code",
   "execution_count": null,
   "id": "cf889d70",
   "metadata": {},
   "outputs": [],
   "source": []
  }
 ],
 "metadata": {
  "kernelspec": {
   "display_name": "Python 3 (ipykernel)",
   "language": "python",
   "name": "python3"
  },
  "language_info": {
   "codemirror_mode": {
    "name": "ipython",
    "version": 3
   },
   "file_extension": ".py",
   "mimetype": "text/x-python",
   "name": "python",
   "nbconvert_exporter": "python",
   "pygments_lexer": "ipython3",
   "version": "3.11.5"
  }
 },
 "nbformat": 4,
 "nbformat_minor": 5
}
